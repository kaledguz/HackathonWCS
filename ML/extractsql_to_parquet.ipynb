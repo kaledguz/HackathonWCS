{
 "cells": [
  {
   "cell_type": "code",
   "execution_count": 9,
   "metadata": {},
   "outputs": [],
   "source": [
    "import mysql.connector\n",
    "import pandas as pd\n",
    "\n",
    "# Informations de connexion à la base de données RDS\n",
    "endpoint = 'database-datacoders.c3m48simgdzn.eu-west-3.rds.amazonaws.com'\n",
    "username = 'admin'\n",
    "password = 'dataCoders2024+'\n",
    "database_name = 'db_datacoders'\n",
    "port = 3306  # Le port par défaut pour MySQL est 3306\n",
    "\n",
    "# Création de la connexion\n",
    "conn = mysql.connector.connect(\n",
    "    host=endpoint,\n",
    "    user=username,\n",
    "    passwd=password,\n",
    "    database=database_name,\n",
    "    port=port\n",
    ")\n",
    "\n",
    "# Création d'un curseur\n",
    "cursor = conn.cursor()\n",
    "\n",
    "# Exemple d'exécution d'une requête SQL\n",
    "cursor.execute('''\n",
    "               SELECT * \n",
    "               FROM user_info as ui\n",
    "               LEFT JOIN login_user as lu USING (id_login_user)\n",
    "               LEFT JOIN mentor_sujet as ms ON (lu.id_login_user = ms.id_mentor)\n",
    "               LEFT JOIN mentorat as mt ON (mt.id_mentorat = ms.id_mentorat)\n",
    "               LEFT JOIN sujet as sj ON (lu.id_login_user = sj.id_utilisateur_mentoret)\n",
    "               LEFT JOIN calendrier as c ON (lu.id_login_user = c.id_utilisateur_mentoret)\n",
    "               ''')\n",
    "rows = cursor.fetchall()\n",
    "\n",
    "# Affichage des résultats\n",
    "# for row in rows[:20]:\n",
    "#     print(row)\n",
    "\n",
    "\n",
    "# mettre en dataframe\n",
    "df = pd.DataFrame(rows)\n",
    "\n",
    "# Fermeture du curseur et de la connexion\n",
    "cursor.close()\n",
    "conn.close()\n",
    "\n",
    "\n",
    "# enregistrer au format parquet\n",
    "df.to_parquet('user_info.parquet', index=False)"
   ]
  }
 ],
 "metadata": {
  "kernelspec": {
   "display_name": "Python 3",
   "language": "python",
   "name": "python3"
  },
  "language_info": {
   "codemirror_mode": {
    "name": "ipython",
    "version": 3
   },
   "file_extension": ".py",
   "mimetype": "text/x-python",
   "name": "python",
   "nbconvert_exporter": "python",
   "pygments_lexer": "ipython3",
   "version": "3.12.3"
  }
 },
 "nbformat": 4,
 "nbformat_minor": 2
}
